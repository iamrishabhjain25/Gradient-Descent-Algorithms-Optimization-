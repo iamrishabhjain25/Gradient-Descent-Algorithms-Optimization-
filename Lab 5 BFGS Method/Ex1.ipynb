{
  "nbformat": 4,
  "nbformat_minor": 0,
  "metadata": {
    "colab": {
      "name": "20i190008_IE684_Lab5_Ex1.ipynb",
      "provenance": [],
      "collapsed_sections": []
    },
    "kernelspec": {
      "name": "python3",
      "display_name": "Python 3"
    }
  },
  "cells": [
    {
      "cell_type": "code",
      "metadata": {
        "id": "JRfW-UdslI-T"
      },
      "source": [
        "import numpy as np\r\n",
        "import pandas as pd\r\n",
        "import matplotlib.pyplot as plt\r\n",
        "from timeit import default_timer as timer\r\n"
      ],
      "execution_count": null,
      "outputs": []
    },
    {
      "cell_type": "markdown",
      "metadata": {
        "id": "HfxapfH3lg3D"
      },
      "source": [
        "$\\large\\textbf{Part 2 : Checking the time taken to calculate the inverse of the hessian matrix, H and to check the positive definiteness of matrix A.}$\r\n",
        "\r\n",
        "$n \\in \\{500,1000,2500,5000,7500,10000\\}$"
      ]
    },
    {
      "cell_type": "code",
      "metadata": {
        "colab": {
          "base_uri": "https://localhost:8080/",
          "height": 518
        },
        "id": "xxQ1PutZlgdV",
        "outputId": "94ed52ad-6d7c-4ec0-cd20-4154d4649818"
      },
      "source": [
        "\r\n",
        "n_arr = [50,100,200,500,1000,2500,5000,10000]\r\n",
        "time_for_inv = []\r\n",
        "time_for_pd = []\r\n",
        "\r\n",
        "for n in n_arr:\r\n",
        "\r\n",
        "  B = np.random.rand(n,n)\r\n",
        "  A = np.matmul(B, B.T)\r\n",
        "  A = np.add(A, 0.001*np.identity(n))\r\n",
        "\r\n",
        "  #print('For n = {}, Is A symmetric? Answer :'.format(n), np.sum(np.sum(np.subtract(A,A.T))) == 0 )\r\n",
        "  #print('For n = {}, Is A positive definite? Answer:'.format(n), np.amin(np.linalg.eigvalsh(A))>0 )\r\n",
        "\r\n",
        "  start_time = timer()\r\n",
        "  A_inv = np.linalg.inv(A)\r\n",
        "  end_time = timer()\r\n",
        "  time_for_inv.append(end_time-start_time)\r\n",
        "\r\n",
        "  start_time = timer()\r\n",
        "  is_pd = np.amin(np.linalg.eigvalsh(A))>0\r\n",
        "  end_time = timer()\r\n",
        "  time_for_pd.append(end_time-start_time)\r\n",
        "\r\n",
        "#print(time_for_inv)\r\n",
        "#print(time_for_pd)\r\n",
        "\r\n",
        "\r\n",
        "plt.subplots(figsize= (10,8))\r\n",
        "plt.plot(n_arr,time_for_inv, label='Time for inverse')\r\n",
        "plt.plot(n_arr,time_for_pd, label='Time for Positive definite')\r\n",
        "plt.title('Time comparison for a matrix A of dimension n')\r\n",
        "plt.xlabel('N', fontsize=16)\r\n",
        "plt.ylabel('Time', fontsize=16)\r\n",
        "plt.legend()\r\n",
        "plt.show()\r\n",
        "\r\n",
        "\r\n"
      ],
      "execution_count": null,
      "outputs": [
        {
          "output_type": "display_data",
          "data": {
            "image/png": "[encoded data removed]",
            "text/plain": [
              "<Figure size 720x576 with 1 Axes>"
            ]
          },
          "metadata": {
            "tags": [],
            "needs_background": "light"
          }
        }
      ]
    },
    {
      "cell_type": "markdown",
      "metadata": {
        "id": "AkWftYTewCvF"
      },
      "source": [
        "***Remarks :*** *We observe same pattern in both the cases. Time taken to calculate the invverse of the matrix $A$ and the time to check if the matrix is positive definite, increases very rapidly as we increase the size or the dimension of the matrix $A$. And the obvious reason for that is that the number of operations to be performed to do the task increases as we increase n. *"
      ]
    },
    {
      "cell_type": "markdown",
      "metadata": {
        "id": "KelTVRALuvUA"
      },
      "source": [
        "$\\large\\textbf{Part 3-4 :}$\r\n",
        "\r\n",
        "Implement Newton's method to solve the problem $\\min_{\\mathbf{x} \\in {\\mathbb{R}}^n} f(\\mathbf{x})$ where $f(\\mathbf{x})=f(x_1,x_2,\\ldots,x_n) = \\sum_{i=1}^{n-1} \\left [2(x_i^2 - x_{i+1})^2 + (x_i-1)^2) \\right ]$. Take $n \\in \\{1000, 2500, 5000, 7500, 10000\\}$ and compute the time taken by the Newton's method to find the minimizer for each value of $n$. Take the starting point to be $\\mathbf{x}^0 = (0,0,\\ldots,0)$. Choose $\\eta^k = 1, \\forall k $ in the implementation of Newton's method. Prepare a graph where you plot the time taken by Newton's method vs $n$.  "
      ]
    },
    {
      "cell_type": "code",
      "metadata": {
        "id": "MbRMOGELlZOg"
      },
      "source": [
        "def evalf(x,n):\r\n",
        "  assert type(x) is np.ndarray\r\n",
        "  assert n >=2\r\n",
        "  assert len(x) == n\r\n",
        "\r\n",
        "  f = 0\r\n",
        "\r\n",
        "  for i in range(n-1):\r\n",
        "    f += 2*(x[i]**2 - x[i+1])**2 + (x[i]-1)**2\r\n",
        "\r\n",
        "  return f\r\n",
        "\r\n",
        "\r\n",
        "\r\n",
        "def evalg(x,n):\r\n",
        "  assert type(x) is np.ndarray\r\n",
        "  assert n >=2\r\n",
        "  assert len(x) == n\r\n",
        "\r\n",
        "  g = np.array([0.99 for i in range(n)])\r\n",
        "  g[0] = 8*x[0]*(x[0]**2 - x[1]) + 2*(x[0]-1)\r\n",
        "\r\n",
        "  for i in range(1,n-1):\r\n",
        "    g[i] = -4*(x[i-1]**2 - x[i]) + 8*x[i]*(x[i]**2 - x[i+1]) + 2*(x[i]-1)\r\n",
        "\r\n",
        "  g[n-1] = -4*(x[n-2]**2 - x[n-1])\r\n",
        "\r\n",
        "  return g\r\n",
        "\r\n",
        "\r\n",
        "def evalh(x,n):\r\n",
        "  assert type(x) is np.ndarray\r\n",
        "  assert n >=2\r\n",
        "  assert len(x) == n\r\n",
        "\r\n",
        "  h = np.zeros((n,n))\r\n",
        "  h[0][0] = 8*(x[0]**2 - x[1]) + 16*x[0]**2 + 2\r\n",
        "  h[0][1] = -8*x[0]\r\n",
        "\r\n",
        "  for i in range(1,n-1):\r\n",
        "    h[i][i] = 4 + 16*x[i]**2 + 8*(x[i]**2 - x[i+1]) +2\r\n",
        "    h[i][i+1] = -8*x[i]\r\n",
        "    h[i][i-1] = h[i-1][i]\r\n",
        "\r\n",
        "  h[n-1][n-2] = h[n-2][n-1]\r\n",
        "  h[n-1][n-1] = 4\r\n",
        "\r\n",
        "  return h\r\n",
        "\r\n",
        "\r\n",
        "\r\n",
        "def compute_steplength_backtracking_scaled_direction(x,n ,gradf, direction, alpha_start, rho, gamma): #add appropriate arguments to the function \r\n",
        "  assert type(x) is np.ndarray and len(gradf) == n \r\n",
        "  assert type(gradf) is np.ndarray and len(gradf) == n \r\n",
        "  assert type(direction) is np.ndarray and len(direction) == n\r\n",
        "  assert type(alpha_start) is float and alpha_start>=0. \r\n",
        "  assert type(rho) is float and rho>=0.\r\n",
        "  assert type(gamma) is float and gamma>=0. \r\n",
        "\r\n",
        "  alpha = alpha_start\r\n",
        "  p = -gradf\r\n",
        "\r\n",
        "  while (evalf(x + alpha*np.matmul(direction,p)) > (evalf(x) + gamma * alpha * np.matmul(gradf.T, np.matmul(direction, p))) ):\r\n",
        "    alpha = alpha*rho\r\n",
        " \r\n",
        "  return alpha\r\n",
        "\r\n",
        "\r\n",
        "#line search type \r\n",
        "CONSTANT_STEP_LENGTH = 3\r\n",
        "BACKTRACKING_LINE_SEARCH = 2\r\n",
        "EXACT_LINE_SEARCH = 1\r\n",
        "\r\n",
        "\r\n",
        "def find_minimizer_Newtonmethod(start_x, n, tol, line_search_type, *args):\r\n",
        "  #Input: start_x is a numpy array of size n, tol denotes the tolerance and is a positive float value\r\n",
        "  assert type(start_x) is np.ndarray #do not allow arbitrary type arguments \r\n",
        "  assert len(start_x) == n #do not allow arbitrary size arguments \r\n",
        "  assert type(tol) is float and tol>=0 \r\n",
        "  \r\n",
        "  x = start_x\r\n",
        "  g_x = evalg(x,n)\r\n",
        "  \r\n",
        "\r\n",
        "  if line_search_type == BACKTRACKING_LINE_SEARCH:\r\n",
        "    if args is None:\r\n",
        "      err_msg = 'Line search type: BACKTRACKING_LINE_SEARCH, but did not receive any args. Please check!'\r\n",
        "      raise ValueError(err_msg)\r\n",
        "    elif len(args)<3 :\r\n",
        "      err_msg = 'Line search type: BACKTRACKING_LINE_SEARCH, but did not receive three args. Please check!'\r\n",
        "      raise ValueError(err_msg)\r\n",
        "    else:\r\n",
        "      alpha_start = float(args[0])\r\n",
        "      rho = float(args[1])\r\n",
        "      gamma = float(args[2])\r\n",
        "  k = 0\r\n",
        "  \r\n",
        "  #print('iter:',k,  ' f(x):', evalf(x,n), ' gradient norm:', np.linalg.norm(g_x))\r\n",
        "\r\n",
        "  while (np.linalg.norm(g_x) > tol):\r\n",
        "\r\n",
        "    d = np.linalg.inv(evalh(x,n))\r\n",
        "\r\n",
        "    if line_search_type == BACKTRACKING_LINE_SEARCH:\r\n",
        "      step_length = compute_steplength_backtracking_scaled_direction(x,n,g_x, d , alpha_start,rho, gamma)\r\n",
        " \r\n",
        "    elif line_search_type == CONSTANT_STEP_LENGTH: \r\n",
        "      step_length = 1.0\r\n",
        " \r\n",
        "    else:  \r\n",
        "      raise ValueError('Line search type unknown. Please check!')\r\n",
        " \r\n",
        "    x = np.subtract(x, step_length * np.matmul(d,g_x)) \r\n",
        "    k += 1 \r\n",
        "    g_x = evalg(x,n)\r\n",
        "  \r\n",
        "  return x, evalf(x,n), k\r\n",
        "\r\n",
        "\r\n",
        "\r\n",
        "\r\n"
      ],
      "execution_count": null,
      "outputs": []
    },
    {
      "cell_type": "code",
      "metadata": {
        "id": "TcS0KDdv3n_0"
      },
      "source": [
        "n_arr = [50,100,200,500,1000,2500,5000,10000]\r\n",
        "time_arr = []\r\n",
        "\r\n",
        "\r\n",
        "\r\n",
        "my_tol= 1e-9\r\n",
        "\r\n",
        "for n in n_arr:\r\n",
        "\r\n",
        "  my_start_x = np.zeros(n)\r\n",
        "  start = timer()\r\n",
        "  x, f, k = find_minimizer_Newtonmethod(my_start_x,n,my_tol,CONSTANT_STEP_LENGTH)\r\n",
        "  end = timer()\r\n",
        "  time_arr.append(end-start)\r\n",
        "\r\n",
        "\r\n"
      ],
      "execution_count": null,
      "outputs": []
    },
    {
      "cell_type": "code",
      "metadata": {
        "id": "96O7U_JV3sPy",
        "colab": {
          "base_uri": "https://localhost:8080/",
          "height": 518
        },
        "outputId": "ce799415-ee64-4f51-f09e-ff350d6d622f"
      },
      "source": [
        "\r\n",
        "plt.subplots(figsize= (10,8))\r\n",
        "plt.plot(n_arr,time_arr ,label='Time for inverse')\r\n",
        "plt.title('Time taken to find optimal solution')\r\n",
        "plt.xlabel('N', fontsize=16)\r\n",
        "plt.ylabel('Time', fontsize=16)\r\n",
        "plt.legend()\r\n",
        "plt.show()"
      ],
      "execution_count": null,
      "outputs": [
        {
          "output_type": "display_data",
          "data": {
            "image/png": "[encoded data removed]",
            "text/plain": [
              "<Figure size 720x576 with 1 Axes>"
            ]
          },
          "metadata": {
            "tags": [],
            "needs_background": "light"
          }
        }
      ]
    },
    {
      "cell_type": "code",
      "metadata": {
        "id": "iLt6RVqQcvvf"
      },
      "source": [
        ""
      ],
      "execution_count": 1,
      "outputs": []
    },
    {
      "cell_type": "code",
      "metadata": {
        "id": "pPMnp0F59Qhn"
      },
      "source": [
        ""
      ],
      "execution_count": null,
      "outputs": []
    }
  ]
}