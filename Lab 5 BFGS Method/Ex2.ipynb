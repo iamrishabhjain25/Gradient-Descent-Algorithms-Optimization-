{
  "nbformat": 4,
  "nbformat_minor": 0,
  "metadata": {
    "colab": {
      "name": "20i190008_IE684_Lab5_Ex2.ipynb",
      "provenance": [],
      "collapsed_sections": []
    },
    "kernelspec": {
      "name": "python3",
      "display_name": "Python 3"
    }
  },
  "cells": [
    {
      "cell_type": "code",
      "metadata": {
        "id": "VY6CvA_sfCpF"
      },
      "source": [
        "import numpy as np\r\n",
        "import pandas as pd\r\n",
        "import matplotlib.pyplot as plt\r\n",
        "from timeit import default_timer as timer\r\n"
      ],
      "execution_count": 1,
      "outputs": []
    },
    {
      "cell_type": "markdown",
      "metadata": {
        "id": "TcYNPpOvtyQE"
      },
      "source": [
        "$\\large\\textbf{Part 1 : Initial Choice of } B^0$\r\n",
        "\r\n",
        "Initially we can start by letiing $B^0 = I$    where, $I$ is the identity matrix"
      ]
    },
    {
      "cell_type": "markdown",
      "metadata": {
        "id": "OfntHQpS4_mt"
      },
      "source": [
        "$\\large\\textbf{General Code} $"
      ]
    },
    {
      "cell_type": "code",
      "metadata": {
        "id": "azcoGnm9rzp2"
      },
      "source": [
        "def evalf(x,n):\r\n",
        "  assert type(x) is np.ndarray\r\n",
        "  assert n >=2\r\n",
        "  assert len(x) == n\r\n",
        "\r\n",
        "  f = 0\r\n",
        "\r\n",
        "  for i in range(n-1):\r\n",
        "    f += 2*(x[i]**2 - x[i+1])**2 + (x[i]-1)**2\r\n",
        "\r\n",
        "  return f\r\n",
        "\r\n",
        "\r\n",
        "\r\n",
        "def evalg(x,n):\r\n",
        "  assert type(x) is np.ndarray\r\n",
        "  assert n >=2\r\n",
        "  assert len(x) == n\r\n",
        "\r\n",
        "  g = np.zeros(n)\r\n",
        "  g[0] = 8*x[0]*(x[0]**2 - x[1]) + 2*(x[0]-1)\r\n",
        "\r\n",
        "  for i in range(1,n-1):\r\n",
        "    g[i] = -4*(x[i-1]**2 - x[i]) + 8*x[i]*(x[i]**2 - x[i+1]) + 2*(x[i]-1)\r\n",
        "\r\n",
        "  g[n-1] = -4*(x[n-2]**2 - x[n-1])\r\n",
        "\r\n",
        "  return g.reshape((n,1))\r\n",
        "\r\n",
        "\r\n",
        "def evalh(x,n):\r\n",
        "  assert type(x) is np.ndarray\r\n",
        "  assert n >=2\r\n",
        "  assert len(x) == n\r\n",
        "\r\n",
        "  h = np.zeros((n,n))\r\n",
        "  h[0][0] = 8*(x[0]**2 - x[1]) + 16*x[0]**2 + 2\r\n",
        "  h[0][1] = -8*x[0]\r\n",
        "\r\n",
        "  for i in range(1,n-1):\r\n",
        "    h[i][i] = 4 + 16*x[i]**2 + 8*(x[i]**2 - x[i+1]) +2\r\n",
        "    h[i][i+1] = -8*x[i]\r\n",
        "    h[i][i-1] = h[i-1][i]\r\n",
        "\r\n",
        "  h[n-1][n-2] = h[n-2][n-1]\r\n",
        "  h[n-1][n-1] = 4\r\n",
        "\r\n",
        "  return h\r\n",
        "\r\n",
        "\r\n",
        "\r\n",
        "\r\n",
        "def compute_steplength_backtracking_scaled_direction(x,n ,gradf, direction, alpha_start, rho, gamma): #add appropriate arguments to the function \r\n",
        "  assert type(x) is np.ndarray and len(gradf) == n \r\n",
        "  assert type(gradf) is np.ndarray and len(gradf) == n \r\n",
        "  assert type(direction) is np.ndarray and len(direction) == n\r\n",
        "  assert type(alpha_start) is float and alpha_start>=0. \r\n",
        "  assert type(rho) is float and rho>=0.\r\n",
        "  assert type(gamma) is float and gamma>=0. \r\n",
        "\r\n",
        "  alpha = alpha_start\r\n",
        "  p = -gradf\r\n",
        "\r\n",
        "  while (evalf(x + alpha*np.matmul(direction,p),n) > (evalf(x,n) + gamma * alpha * np.matmul(gradf.T, np.matmul(direction, p))) ):\r\n",
        "    alpha = alpha*rho\r\n",
        " \r\n",
        "  return alpha\r\n",
        "\r\n",
        "\r\n",
        "\r\n",
        "\r\n",
        "\r\n",
        "#line search type \r\n",
        "CONSTANT_STEP_LENGTH = 3\r\n",
        "BACKTRACKING_LINE_SEARCH = 2\r\n",
        "EXACT_LINE_SEARCH = 1\r\n",
        "\r\n",
        "\r\n",
        "def find_minimizer_Newtonmethod(start_x, n, tol, line_search_type, *args):\r\n",
        "  #Input: start_x is a numpy array of size n, tol denotes the tolerance and is a positive float value\r\n",
        "  assert type(start_x) is np.ndarray #do not allow arbitrary type arguments \r\n",
        "  assert len(start_x) == n #do not allow arbitrary size arguments \r\n",
        "  assert type(tol) is float and tol>=0 \r\n",
        "  \r\n",
        "  x = start_x.reshape((n,1))\r\n",
        "  g_x = evalg(x,n)\r\n",
        "  \r\n",
        "\r\n",
        "  if line_search_type == BACKTRACKING_LINE_SEARCH:\r\n",
        "    if args is None:\r\n",
        "      err_msg = 'Line search type: BACKTRACKING_LINE_SEARCH, but did not receive any args. Please check!'\r\n",
        "      raise ValueError(err_msg)\r\n",
        "    elif len(args)<3 :\r\n",
        "      err_msg = 'Line search type: BACKTRACKING_LINE_SEARCH, but did not receive three args. Please check!'\r\n",
        "      raise ValueError(err_msg)\r\n",
        "    else:\r\n",
        "      alpha_start = float(args[0])\r\n",
        "      rho = float(args[1])\r\n",
        "      gamma = float(args[2])\r\n",
        "  k = 0\r\n",
        "  \r\n",
        "  #print('iter:',k,  ' f(x):', evalf(x,n), ' gradient norm:', np.linalg.norm(g_x))\r\n",
        "\r\n",
        "  while (np.linalg.norm(g_x) > tol):\r\n",
        "\r\n",
        "    d = np.linalg.inv(evalh(x,n))\r\n",
        "\r\n",
        "    if line_search_type == BACKTRACKING_LINE_SEARCH:\r\n",
        "      step_length = compute_steplength_backtracking_scaled_direction(x,n,g_x, d , alpha_start,rho, gamma)\r\n",
        " \r\n",
        "    elif line_search_type == CONSTANT_STEP_LENGTH: \r\n",
        "      step_length = 0.4\r\n",
        " \r\n",
        "    else:  \r\n",
        "      raise ValueError('Line search type unknown. Please check!')\r\n",
        " \r\n",
        "    x = np.subtract(x, step_length * np.matmul(d,g_x)) \r\n",
        "    k += 1 \r\n",
        "    g_x = evalg(x,n)\r\n",
        "  \r\n",
        "  return x, k\r\n",
        "\r\n",
        "\r\n",
        "\r\n",
        "\r\n",
        "def find_minimizer_BGFS(start_x, n, tol,line_search_type,*args):\r\n",
        "  x = start_x.reshape((n,1))\r\n",
        "  k = 0\r\n",
        "  g_new = evalg(x,n)\r\n",
        "  B = np.identity(n) \r\n",
        "\r\n",
        "  if line_search_type == BACKTRACKING_LINE_SEARCH:\r\n",
        "    if args is None:\r\n",
        "      err_msg = 'Line search type: BACKTRACKING_LINE_SEARCH, but did not receive any args. Please check!'\r\n",
        "      raise ValueError(err_msg)\r\n",
        "    elif len(args)<3 :\r\n",
        "      err_msg = 'Line search type: BACKTRACKING_LINE_SEARCH, but did not receive three args. Please check!'\r\n",
        "      raise ValueError(err_msg)\r\n",
        "    else:\r\n",
        "      alpha_start = float(args[0])\r\n",
        "      rho = float(args[1])\r\n",
        "      gamma = float(args[2])\r\n",
        "\r\n",
        "\r\n",
        "\r\n",
        "  while (np.linalg.norm(g_new) > tol):\r\n",
        "\r\n",
        "    d = B\r\n",
        "\r\n",
        "    if line_search_type == BACKTRACKING_LINE_SEARCH:\r\n",
        "      step_length = compute_steplength_backtracking_scaled_direction(x,n,g_new, d , alpha_start,rho, gamma)\r\n",
        " \r\n",
        "    elif line_search_type == CONSTANT_STEP_LENGTH: \r\n",
        "      step_length = 1.0\r\n",
        " \r\n",
        "    else:  \r\n",
        "      raise ValueError('Line search type unknown. Please check!')\r\n",
        "      \r\n",
        "    \r\n",
        "\r\n",
        "    g_old = evalg(x,n)\r\n",
        "    \r\n",
        "    p = np.matmul(-1*B, g_old)\r\n",
        "        \r\n",
        "    x = x + step_length * p\r\n",
        "    s = step_length * p\r\n",
        "    \r\n",
        "    g_new = evalg(x,n)\r\n",
        "    y = g_new - g_old\r\n",
        "    \r\n",
        "\r\n",
        "    mu = 1 / (np.matmul(y.T,s))\r\n",
        "  \r\n",
        "\r\n",
        "    term1 = np.identity(n) - mu * np.matmul(s,y.T)\r\n",
        "    term2 = np.identity(n) - mu * np.matmul(y, s.T)\r\n",
        "\r\n",
        "    B = np.matmul(term1, np.matmul(B ,term2))  +  mu * np.matmul(s,s.T)\r\n",
        "    \r\n",
        "    k = k + 1\r\n",
        "\r\n",
        "  return x, k\r\n",
        "\r\n"
      ],
      "execution_count": 55,
      "outputs": []
    },
    {
      "cell_type": "markdown",
      "metadata": {
        "id": "TRjabvmzr2Bk"
      },
      "source": [
        "$\\large\\textbf{Part 2 : Comparison of BFGS (constant step length) model with Newton's method by time taken}$\r\n",
        "\r\n",
        "$n \\in \\{500,1000,2500,5000,7500,10000\\}$\r\n",
        "\r\n",
        "$\\min_{\\mathbf{x} \\in {\\mathbb{R}}^n} f(\\mathbf{x})  \\ \\ where, $ $f(\\mathbf{x})=f(x_1,x_2,\\ldots,x_n) = \\sum_{i=1}^{n-1} \\left [2(x_i^2 - x_{i+1})^2 + (x_i-1)^2) \\right ]$"
      ]
    },
    {
      "cell_type": "code",
      "metadata": {
        "colab": {
          "base_uri": "https://localhost:8080/"
        },
        "id": "CyO-5TI4u9lr",
        "outputId": "ee7ab308-e84f-478d-db9b-b1cb0f241447"
      },
      "source": [
        "n_arr = np.array([2,3,5, 100, 1000])\r\n",
        "\r\n",
        "tol = 1e-9\r\n",
        "\r\n",
        "time_arr = []\r\n",
        "time_arr_newton = []\r\n",
        "\r\n",
        "for n in n_arr:\r\n",
        "  my_x = np.zeros(n)\r\n",
        "\r\n",
        "  time_s = timer() \r\n",
        "  x,k = find_minimizer_BGFS(my_x,n,tol,CONSTANT_STEP_LENGTH)\r\n",
        "  time_e = timer()\r\n",
        "\r\n",
        "  time_arr.append(time_e - time_s)\r\n",
        "\r\n",
        "  time_s = timer() \r\n",
        "  x,k = find_minimizer_Newtonmethod(my_x,n,tol,CONSTANT_STEP_LENGTH)\r\n",
        "  time_e = timer()\r\n",
        "\r\n",
        "  time_arr_newton.append(time_e - time_s)\r\n",
        "\r\n",
        "\r\n",
        "\r\n",
        "\r\n",
        "\r\n"
      ],
      "execution_count": 59,
      "outputs": [
        {
          "output_type": "stream",
          "text": [
            "/usr/local/lib/python3.6/dist-packages/ipykernel_launcher.py:172: RuntimeWarning: overflow encountered in matmul\n",
            "/usr/local/lib/python3.6/dist-packages/ipykernel_launcher.py:175: RuntimeWarning: overflow encountered in matmul\n",
            "/usr/local/lib/python3.6/dist-packages/ipykernel_launcher.py:175: RuntimeWarning: invalid value encountered in multiply\n",
            "/usr/local/lib/python3.6/dist-packages/ipykernel_launcher.py:176: RuntimeWarning: overflow encountered in matmul\n",
            "/usr/local/lib/python3.6/dist-packages/ipykernel_launcher.py:176: RuntimeWarning: invalid value encountered in multiply\n",
            "/usr/local/lib/python3.6/dist-packages/ipykernel_launcher.py:21: RuntimeWarning: overflow encountered in multiply\n",
            "/usr/local/lib/python3.6/dist-packages/ipykernel_launcher.py:24: RuntimeWarning: overflow encountered in multiply\n",
            "/usr/local/lib/python3.6/dist-packages/ipykernel_launcher.py:175: RuntimeWarning: invalid value encountered in matmul\n",
            "/usr/local/lib/python3.6/dist-packages/ipykernel_launcher.py:176: RuntimeWarning: invalid value encountered in matmul\n"
          ],
          "name": "stderr"
        }
      ]
    },
    {
      "cell_type": "code",
      "metadata": {
        "colab": {
          "base_uri": "https://localhost:8080/",
          "height": 518
        },
        "id": "NSQBZ9rk9t1W",
        "outputId": "58e86787-552f-47b8-a1fc-e22529119eed"
      },
      "source": [
        "\r\n",
        "plt.subplots(figsize= (10,8))\r\n",
        "plt.plot(n_arr,time_arr_newton ,label='Newtons method')\r\n",
        "plt.plot(n_arr,time_arr ,label='BFGS Method')\r\n",
        "plt.title('Time taken to find optimal solution')\r\n",
        "plt.xlabel('N', fontsize=16)\r\n",
        "plt.ylabel('Time', fontsize=16)\r\n",
        "plt.legend()\r\n",
        "plt.show()"
      ],
      "execution_count": 60,
      "outputs": [
        {
          "output_type": "display_data",
          "data": {
            "image/png": "[encoded data removed]",
            "text/plain": [
              "<Figure size 720x576 with 1 Axes>"
            ]
          },
          "metadata": {
            "tags": [],
            "needs_background": "light"
          }
        }
      ]
    },
    {
      "cell_type": "markdown",
      "metadata": {
        "id": "yHbU20jI91_r"
      },
      "source": [
        "***Remarks :*** *For the step length  =1.0, the optimal value cannot be find for n>=5 since the output is not converging. As we decrease the value of the step length we can find the value of the n for larger n. So instead of using step length 1, we are using step length of 0.4 and trying different values of n. But even with step length = 0.4, the BFGS method cannot be perfomed for n >500. Hence this is the result that we have got. But its clear from the graph that BFGS is performing better than newtons method*"
      ]
    },
    {
      "cell_type": "markdown",
      "metadata": {
        "id": "K2iQ2DmU5IJe"
      },
      "source": [
        "$\\large\\textbf{Part 3 : Comparison of BFGS model (with backtracking line search) with Newton's method by time taken}$\r\n",
        "\r\n",
        "$n \\in \\{500,1000,2500,5000,7500,10000\\}$\r\n",
        "\r\n",
        "$\\min_{\\mathbf{x} \\in {\\mathbb{R}}^n} f(\\mathbf{x})  \\ \\ where, $ $f(\\mathbf{x})=f(x_1,x_2,\\ldots,x_n) = \\sum_{i=1}^{n-1} \\left [2(x_i^2 - x_{i+1})^2 + (x_i-1)^2) \\right ]$"
      ]
    },
    {
      "cell_type": "code",
      "metadata": {
        "id": "BFCDqLRAvBN7"
      },
      "source": [
        "\r\n",
        "n_arr = np.array([2,3,5,10,100,1000,2500])\r\n",
        "tol = 1e-9\r\n",
        "alpha =0.9\r\n",
        "rho = 0.5\r\n",
        "gamma = 0.5\r\n",
        "\r\n",
        "time_arr_bfgs = []\r\n",
        "time_arr_newton = []\r\n",
        "\r\n",
        "\r\n",
        "for n in n_arr:\r\n",
        "  my_x = np.zeros(n)\r\n",
        "\r\n",
        "  time_s = timer() \r\n",
        "  x,k = find_minimizer_BGFS(my_x,n,tol,BACKTRACKING_LINE_SEARCH,alpha,rho,gamma)\r\n",
        "  time_e = timer()\r\n",
        "  time_arr_bfgs.append(time_e - time_s)\r\n",
        "\r\n",
        "  time_s = timer() \r\n",
        "  x,k = find_minimizer_Newtonmethod(my_x,n,tol,CONSTANT_STEP_LENGTH)\r\n",
        "  time_e = timer()\r\n",
        "  time_arr_newton.append(time_e - time_s)\r\n",
        "\r\n",
        "  \r\n",
        "\r\n",
        "\r\n"
      ],
      "execution_count": 66,
      "outputs": []
    },
    {
      "cell_type": "code",
      "metadata": {
        "colab": {
          "base_uri": "https://localhost:8080/",
          "height": 518
        },
        "id": "6i-a3ueD7FGf",
        "outputId": "d0a46e7f-12d1-4997-a267-eeec59efe8c0"
      },
      "source": [
        "\r\n",
        "plt.subplots(figsize= (10,8))\r\n",
        "plt.plot(n_arr,time_arr_newton ,label='Newtons method')\r\n",
        "plt.plot(n_arr,time_arr_bfgs ,label='BFGS Method')\r\n",
        "plt.title('Time taken to find optimal solution')\r\n",
        "plt.xlabel('N', fontsize=16)\r\n",
        "plt.ylabel('Time', fontsize=16)\r\n",
        "plt.legend()\r\n",
        "plt.show()"
      ],
      "execution_count": 67,
      "outputs": [
        {
          "output_type": "display_data",
          "data": {
            "image/png": "[encoded data removed]",
            "text/plain": [
              "<Figure size 720x576 with 1 Axes>"
            ]
          },
          "metadata": {
            "tags": [],
            "needs_background": "light"
          }
        }
      ]
    },
    {
      "cell_type": "markdown",
      "metadata": {
        "id": "exq3d5kMBx_8"
      },
      "source": [
        "***Remarks :*** *We observe that here when we use BFGS method with backtracking, the time taken by newtwon methods is less than BFGS. Also the time taken by program to run at higher values is very large so we have only checked the time till n =2500 to get the patterna and understand it.*"
      ]
    },
    {
      "cell_type": "code",
      "metadata": {
        "id": "mFkusujwO99n"
      },
      "source": [
        ""
      ],
      "execution_count": null,
      "outputs": []
    }
  ]
}