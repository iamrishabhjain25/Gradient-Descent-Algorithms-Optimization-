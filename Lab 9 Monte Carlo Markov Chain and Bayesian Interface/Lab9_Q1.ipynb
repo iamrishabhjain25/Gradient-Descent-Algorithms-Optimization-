{
  "nbformat": 4,
  "nbformat_minor": 0,
  "metadata": {
    "colab": {
      "name": "20i190008_IE684_Lab9_Q1.ipynb",
      "provenance": [],
      "collapsed_sections": []
    },
    "kernelspec": {
      "name": "python3",
      "display_name": "Python 3"
    },
    "language_info": {
      "name": "python"
    }
  },
  "cells": [
    {
      "cell_type": "markdown",
      "metadata": {
        "id": "bobqjlwq6-f_"
      },
      "source": [
        "$\\textbf{1.) Set of all permutation be L, where elements of L satisfy following }$\n",
        "\n",
        "$\\sum_{j=1}^{n}jx_j > a$\n"
      ]
    },
    {
      "cell_type": "markdown",
      "metadata": {
        "id": "bsaDKT157eGL"
      },
      "source": [
        "$\\textbf{2.) Let n=4, and a =14. and plot histogram  }$"
      ]
    },
    {
      "cell_type": "code",
      "metadata": {
        "colab": {
          "base_uri": "https://localhost:8080/"
        },
        "id": "hvr3sc_43i_b",
        "outputId": "0e91c661-12ae-49c1-faef-d7648a4d705e"
      },
      "source": [
        "import itertools\n",
        "import numpy as np\n",
        "import matplotlib.pyplot as plt\n",
        "\n",
        "\n",
        "\n",
        "n = 4\n",
        "a = 14\n",
        "\n",
        "all_per = list(itertools.permutations([1,2,3,4]))     #list of all permutations of (1,2,3,4)\n",
        "all_per = list(map(np.array, all_per))                #converting the tuples inside the list to array          \n",
        "all_per\n",
        "\n",
        "L = []            #set of all permutation such that the condition is satisfied\n",
        "\n",
        "for i in range(len(all_per)):\n",
        "  if (np.dot(all_per[i],np.array([1,2,3,4])) > a):\n",
        "    L.append(all_per[i])\n",
        "\n",
        "L"
      ],
      "execution_count": 66,
      "outputs": [
        {
          "output_type": "execute_result",
          "data": {
            "text/plain": [
              "[array([1, 2, 3, 4]),\n",
              " array([1, 2, 4, 3]),\n",
              " array([1, 3, 2, 4]),\n",
              " array([1, 3, 4, 2]),\n",
              " array([1, 4, 2, 3]),\n",
              " array([1, 4, 3, 2]),\n",
              " array([2, 1, 3, 4]),\n",
              " array([2, 1, 4, 3]),\n",
              " array([2, 3, 1, 4]),\n",
              " array([2, 3, 4, 1]),\n",
              " array([2, 4, 1, 3]),\n",
              " array([2, 4, 3, 1]),\n",
              " array([3, 1, 2, 4]),\n",
              " array([3, 1, 4, 2]),\n",
              " array([3, 2, 1, 4]),\n",
              " array([3, 2, 4, 1]),\n",
              " array([3, 4, 1, 2]),\n",
              " array([3, 4, 2, 1]),\n",
              " array([4, 1, 2, 3]),\n",
              " array([4, 1, 3, 2]),\n",
              " array([4, 2, 1, 3]),\n",
              " array([4, 2, 3, 1]),\n",
              " array([4, 3, 1, 2]),\n",
              " array([4, 3, 2, 1])]"
            ]
          },
          "metadata": {
            "tags": []
          },
          "execution_count": 66
        }
      ]
    },
    {
      "cell_type": "markdown",
      "metadata": {
        "id": "UIBAQPP_Algt"
      },
      "source": [
        "*We observe that the condition is met for all the elements in the set and hence L contains all the elements\n",
        "*"
      ]
    },
    {
      "cell_type": "code",
      "metadata": {
        "id": "4pU7NC0J-fv4"
      },
      "source": [
        "def generate_random_per(permu_set):\n",
        "  size = len(permu_set)\n",
        "  u = np.random.randint(0,size)\n",
        "  return permu_set[u]\n",
        "\n"
      ],
      "execution_count": 43,
      "outputs": []
    },
    {
      "cell_type": "code",
      "metadata": {
        "id": "G6Gq0NotGMmX"
      },
      "source": [
        "list_results = []\n",
        "n_itr = 1000\n",
        "\n",
        "for i in range(n_itr):\n",
        "  list_results.append(generate_random_per(L))\n",
        "\n",
        "\n",
        "dict_results = {}\n",
        "for i in range(len(L)):\n",
        "  dict_results[str(L[i])] = 0\n",
        "\n",
        "for i in range(len(list_results)):\n",
        "  dict_results[str(list_results[i])] += 1\n",
        "    "
      ],
      "execution_count": 64,
      "outputs": []
    },
    {
      "cell_type": "code",
      "metadata": {
        "colab": {
          "base_uri": "https://localhost:8080/",
          "height": 501
        },
        "id": "Bd-bAqIcH-W6",
        "outputId": "5e94a996-eaf3-4b99-ba55-1ddf632c43cb"
      },
      "source": [
        "plt.figure(figsize = (16,8))\n",
        "plt.bar(dict_results.keys(), dict_results.values())"
      ],
      "execution_count": 78,
      "outputs": [
        {
          "output_type": "execute_result",
          "data": {
            "text/plain": [
              "<BarContainer object of 24 artists>"
            ]
          },
          "metadata": {
            "tags": []
          },
          "execution_count": 78
        },
        {
          "output_type": "display_data",
          "data": {
            "image/png": "[encoded data removed]",
            "text/plain": [
              "<Figure size 1152x576 with 1 Axes>"
            ]
          },
          "metadata": {
            "tags": [],
            "needs_background": "light"
          }
        }
      ]
    },
    {
      "cell_type": "markdown",
      "metadata": {
        "id": "lckXD4Z-Dbau"
      },
      "source": [
        "$\\textbf{3.) MCMC : Creating function to find and generate neighbor}$"
      ]
    },
    {
      "cell_type": "code",
      "metadata": {
        "id": "TFJVmX83LXRT"
      },
      "source": [
        "def compute_all_neighbor_and_one_random(input_permu):\n",
        "  assert type(input_permu) is np.ndarray\n",
        "\n",
        "  neighbors = []\n",
        "  for i in range(len(L)):\n",
        "    dif = L[i] - input_permu\n",
        "    non_zero_in_diff = sum(dif != np.zeros(len(input_permu)))\n",
        "    if (non_zero_in_diff==2):\n",
        "      neighbors.append(L[i])\n",
        "\n",
        "  u = np.random.randint(0,len(neighbors))\n",
        "  return neighbors, neighbors[u] \n",
        "\n"
      ],
      "execution_count": 88,
      "outputs": []
    },
    {
      "cell_type": "markdown",
      "metadata": {
        "id": "Vnjtrre1R74j"
      },
      "source": [
        "*Here all the elements in L are the states. So there are total 24 states in our markov model where is state is a permutation of our original array.*\n"
      ]
    },
    {
      "cell_type": "code",
      "metadata": {
        "id": "nWc0GGpELZOQ"
      },
      "source": [
        "def calculate_Q_i_j(state_i):\n",
        "  assert type(state_i) is np.ndarray\n",
        "  a,b =compute_all_neighbor_and_one_random(state_i)\n",
        "  if (len(a)!= 0):\n",
        "    return 1/(len(a))\n",
        "  else:\n",
        "    print('There are no neighbors, so the toal number of elements in neighbors set is zero and hence we can not probability.')\n"
      ],
      "execution_count": 101,
      "outputs": []
    },
    {
      "cell_type": "markdown",
      "metadata": {
        "id": "Fz9jjPEMS125"
      },
      "source": [
        "$\\textbf{Example : lets take an input (3,2,1,4) and see its neighbors and calculate the probability of jumping to another state from this state input.} $"
      ]
    },
    {
      "cell_type": "code",
      "metadata": {
        "colab": {
          "base_uri": "https://localhost:8080/"
        },
        "id": "3WETQIGuPXgs",
        "outputId": "87c71d86-41e0-4e42-e7ae-ce7a71ad7406"
      },
      "source": [
        "a,b = compute_all_neighbor_and_one_random(np.array([3,2,1,4]))\n",
        "\n",
        "print('All the neighbors of (3,2,1,4) are as follows:', '\\n')\n",
        "print([str(x) for x in a ])\n",
        "\n",
        "print('\\n')\n",
        "print('Probability Q(i,j) where i is this input state and j is any state is : ' , calculate_Q_i_j(np.array([3,2,1,4])))"
      ],
      "execution_count": 100,
      "outputs": [
        {
          "output_type": "stream",
          "text": [
            "All the neighbors of (3,2,1,4) are as follows: \n",
            "\n",
            "['[1 2 3 4]', '[2 3 1 4]', '[3 1 2 4]', '[3 2 4 1]', '[3 4 1 2]', '[4 2 1 3]']\n",
            "\n",
            "\n",
            "Probability Q(i,j) where i is this input state and j is any state is :  0.16666666666666666\n"
          ],
          "name": "stdout"
        }
      ]
    },
    {
      "cell_type": "markdown",
      "metadata": {
        "id": "WOXUOyDsUeVk"
      },
      "source": [
        "$\\textbf{4.)Compute $\\alpha(i,j)$}$"
      ]
    },
    {
      "cell_type": "code",
      "metadata": {
        "id": "-WV4RfbWTkY_"
      },
      "source": [
        "def compute_alpha_i_j(state_i, state_j):\n",
        "  a = calculate_Q_i_j(state_j)\n",
        "  b = calculate_Q_i_j(state_i)\n",
        "\n",
        "  return min(1, a/b)\n",
        "  \n",
        "\n"
      ],
      "execution_count": 103,
      "outputs": []
    },
    {
      "cell_type": "code",
      "metadata": {
        "id": "OUZA_ZZ8VvTN"
      },
      "source": [
        ""
      ],
      "execution_count": null,
      "outputs": []
    }
  ]
}