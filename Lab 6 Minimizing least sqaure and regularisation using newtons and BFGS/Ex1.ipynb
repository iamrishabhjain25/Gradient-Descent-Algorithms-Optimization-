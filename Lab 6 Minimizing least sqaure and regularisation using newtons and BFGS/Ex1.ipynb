{
  "nbformat": 4,
  "nbformat_minor": 0,
  "metadata": {
    "colab": {
      "name": "20i190008_IE684_Lab6_Ex1.ipynb",
      "provenance": [],
      "collapsed_sections": [
        "WvWO7WiaGsil",
        "FrEguCnsNMZg",
        "jX75BNCAYyXM",
        "swtSN6MmdruX"
      ]
    },
    "kernelspec": {
      "name": "python3",
      "display_name": "Python 3"
    }
  },
  "cells": [
    {
      "cell_type": "markdown",
      "metadata": {
        "id": "WvWO7WiaGsil"
      },
      "source": [
        "# ***General Code***\r\n",
        "\r\n"
      ]
    },
    {
      "cell_type": "markdown",
      "metadata": {
        "id": "xaARNKyCJ_Wv"
      },
      "source": [
        "$min_xf(\\mathbf{x}) = \\frac {1}{2}{||Ax-y||}^2_2 \r\n",
        "\\quad$\r\n",
        "\r\n",
        "Our objective is to minimize this loss function which is the ordinary least square. We proceed as follows"
      ]
    },
    {
      "cell_type": "code",
      "metadata": {
        "id": "rF0Ri0WLGnV7"
      },
      "source": [
        "import numpy as np\r\n",
        "import matplotlib.pyplot as plt\r\n",
        "import pandas as pd\r\n",
        "from numpy import random\r\n",
        "random.seed(1000)"
      ],
      "execution_count": null,
      "outputs": []
    },
    {
      "cell_type": "code",
      "metadata": {
        "id": "xc5wdPg3HetX"
      },
      "source": [
        "def evalf(A,x,y,n_feat, n):\r\n",
        "  assert type(A) is np.ndarray and A.shape == (n, n_feat)\r\n",
        "  assert type(x) is np.ndarray and x.shape == (n_feat,1)\r\n",
        "  assert type(y) is np.ndarray and y.shape == (n,1)\r\n",
        "  assert type(n_feat) is int and n_feat >0\r\n",
        "  assert type(n) is int and n >0\r\n",
        "\r\n",
        "  f = np.matmul(A,x) - y\r\n",
        "\r\n",
        "  return 0.5*(np.linalg.norm(f))**2\r\n",
        "\r\n",
        "\r\n",
        "def evalg(A,x,y,n_feat, n):\r\n",
        "  assert type(A) is np.ndarray and A.shape == (n, n_feat)\r\n",
        "  assert type(x) is np.ndarray and x.shape == (n_feat,1)\r\n",
        "  assert type(y) is np.ndarray and y.shape == (n,1)\r\n",
        "  assert type(n_feat) is int and n_feat >0\r\n",
        "  assert type(n) is int and n >0\r\n",
        "\r\n",
        "  d = np.matmul(A,x) - y\r\n",
        "  g = np.matmul(A.T , d)\r\n",
        "\r\n",
        "  return g\r\n",
        "\r\n",
        "\r\n",
        "\r\n",
        "def evalh(A,x,y,n_feat, n):\r\n",
        "  assert type(A) is np.ndarray and A.shape == (n, n_feat)\r\n",
        "  assert type(x) is np.ndarray and x.shape == (n_feat,1)\r\n",
        "  assert type(y) is np.ndarray and y.shape == (n,1)\r\n",
        "  assert type(n_feat) is int and n_feat >0\r\n",
        "  assert type(n) is int and n >0\r\n",
        "\r\n",
        "  h = np.matmul(A.T , A)\r\n",
        "\r\n",
        "  return h\r\n"
      ],
      "execution_count": null,
      "outputs": []
    },
    {
      "cell_type": "code",
      "metadata": {
        "id": "t7VQYzTvHzxs"
      },
      "source": [
        "def compute_steplength_backtracking_scaled_direction(A,x,y, n_feat, n ,gradf, direction, alpha_start, rho, gamma): #add appropriate arguments to the function \r\n",
        "  assert type(x) is np.ndarray and x.shape == (n_feat,1)\r\n",
        "  assert type(gradf) is np.ndarray and gradf.shape == (n_feat,1)\r\n",
        "  assert type(direction) is np.ndarray and direction.shape == (n_feat, n_feat)\r\n",
        "  assert type(alpha_start) is float and alpha_start>=0. \r\n",
        "  assert type(rho) is float and rho>=0.\r\n",
        "  assert type(gamma) is float and gamma>=0. \r\n",
        "\r\n",
        "  alpha = alpha_start\r\n",
        "  p = -gradf\r\n",
        "\r\n",
        "  while (evalf(A, x + alpha*np.matmul(direction,p), y, n_feat, n) > (evalf(A,x,y,n_feat,n) + gamma * alpha * np.matmul(gradf.T, np.matmul(direction, p))) ):\r\n",
        "    alpha = alpha*rho\r\n",
        " \r\n",
        "  return alpha\r\n",
        "\r\n",
        "\r\n",
        "#line search type \r\n",
        "CONSTANT_STEP_LENGTH = 3\r\n",
        "BACKTRACKING_LINE_SEARCH = 2\r\n",
        "EXACT_LINE_SEARCH = 1\r\n",
        "\r\n",
        "\r\n",
        "\r\n",
        "def find_minimizer_Newtonmethod(A, start_x, y, n_feat,  n, tol, line_search_type, *args):\r\n",
        "  #Input: start_x is a numpy array of size n, tol denotes the tolerance and is a positive float value\r\n",
        "  assert type(A) is np.ndarray and A.shape == (n, n_feat)\r\n",
        "  assert type(start_x) is np.ndarray and start_x.shape == (n_feat,1)\r\n",
        "  assert type(y) is np.ndarray and y.shape == (n,1)\r\n",
        "  assert type(n_feat) is int and n_feat >0\r\n",
        "  assert type(n) is int and n >0\r\n",
        "  assert type(tol) is float and tol>=0 \r\n",
        "  \r\n",
        "  x = start_x\r\n",
        "  g_x = evalg(A,x,y,n_feat,n)\r\n",
        "  \r\n",
        "\r\n",
        "  if line_search_type == BACKTRACKING_LINE_SEARCH:\r\n",
        "    if args is None:\r\n",
        "      err_msg = 'Line search type: BACKTRACKING_LINE_SEARCH, but did not receive any args. Please check!'\r\n",
        "      raise ValueError(err_msg)\r\n",
        "    elif len(args)<3 :\r\n",
        "      err_msg = 'Line search type: BACKTRACKING_LINE_SEARCH, but did not receive three args. Please check!'\r\n",
        "      raise ValueError(err_msg)\r\n",
        "    else:\r\n",
        "      alpha_start = float(args[0])\r\n",
        "      rho = float(args[1])\r\n",
        "      gamma = float(args[2])\r\n",
        "  k = 0\r\n",
        "  x_k = []\r\n",
        "  \r\n",
        "  #print('iter:',k,  ' f(x):', evalf(x,n), ' gradient norm:', np.linalg.norm(g_x))\r\n",
        "\r\n",
        "  while (np.linalg.norm(g_x) > tol):\r\n",
        "\r\n",
        "    d = np.linalg.inv(evalh(A,x,y,n_feat,n))\r\n",
        "\r\n",
        "    if line_search_type == BACKTRACKING_LINE_SEARCH:\r\n",
        "      step_length = compute_steplength_backtracking_scaled_direction(A,x,y,n_feat,n,g_x, d , alpha_start,rho, gamma)\r\n",
        " \r\n",
        "    elif line_search_type == CONSTANT_STEP_LENGTH: \r\n",
        "      step_length = 1.0\r\n",
        " \r\n",
        "    else:  \r\n",
        "      raise ValueError('Line search type unknown. Please check!')\r\n",
        " \r\n",
        "    x = np.subtract(x, step_length * np.matmul(d,g_x)) \r\n",
        "    k += 1 \r\n",
        "    x_k.append(x)\r\n",
        "    g_x = evalg(A,x,y,n_feat,n)\r\n",
        "  \r\n",
        "  return x, k, x_k\r\n",
        "\r\n",
        "\r\n",
        "\r\n",
        "def find_minimizer_BGFS(A, start_x, y, n_feat, n, tol,line_search_type,*args):\r\n",
        "  assert type(A) is np.ndarray and A.shape == (n, n_feat)\r\n",
        "  assert type(start_x) is np.ndarray and start_x.shape == (n_feat,1)\r\n",
        "  assert type(y) is np.ndarray and y.shape == (n,1)\r\n",
        "  assert type(n_feat) is int and n_feat >0\r\n",
        "  assert type(n) is int and n >0\r\n",
        "  assert type(tol) is float and tol>=0 \r\n",
        "\r\n",
        "\r\n",
        "  x = start_x\r\n",
        "  k = 0\r\n",
        "  g_new = evalg(A,x,y,n_feat,n)\r\n",
        "  B = np.identity(n_feat)\r\n",
        "  x_k = []  \r\n",
        "\r\n",
        "  if line_search_type == BACKTRACKING_LINE_SEARCH:\r\n",
        "    if args is None:\r\n",
        "      err_msg = 'Line search type: BACKTRACKING_LINE_SEARCH, but did not receive any args. Please check!'\r\n",
        "      raise ValueError(err_msg)\r\n",
        "    elif len(args)<3 :\r\n",
        "      err_msg = 'Line search type: BACKTRACKING_LINE_SEARCH, but did not receive three args. Please check!'\r\n",
        "      raise ValueError(err_msg)\r\n",
        "    else:\r\n",
        "      alpha_start = float(args[0])\r\n",
        "      rho = float(args[1])\r\n",
        "      gamma = float(args[2])\r\n",
        "\r\n",
        "  while (np.linalg.norm(g_new) > tol):\r\n",
        "\r\n",
        "    d = B\r\n",
        "\r\n",
        "    if line_search_type == BACKTRACKING_LINE_SEARCH:\r\n",
        "      step_length = compute_steplength_backtracking_scaled_direction(A,x,y,n_feat,n ,g_new, d , alpha_start,rho, gamma)\r\n",
        " \r\n",
        "    elif line_search_type == CONSTANT_STEP_LENGTH: \r\n",
        "      step_length = 1.0\r\n",
        " \r\n",
        "    else:  \r\n",
        "      raise ValueError('Line search type unknown. Please check!')\r\n",
        "      \r\n",
        "    g_old = evalg(A,x,y,n_feat,n)\r\n",
        "    p = np.matmul(-1*B, g_old)\r\n",
        "    x = x + step_length * p\r\n",
        "    s = step_length * p\r\n",
        "    g_new = evalg(A,x,y,n_feat,n)\r\n",
        "    y_k = g_new - g_old\r\n",
        "\r\n",
        "    mu = 1 / (np.matmul(y_k.T,s))\r\n",
        "    term1 = np.identity(n_feat) - mu * np.matmul(s,y_k.T)\r\n",
        "    term2 = np.identity(n_feat) - mu * np.matmul(y_k, s.T)\r\n",
        "\r\n",
        "    B = np.matmul(term1, np.matmul(B ,term2))  +  mu * np.matmul(s,s.T)\r\n",
        "    \r\n",
        "    k = k + 1\r\n",
        "    x_k.append(x)\r\n",
        "    \r\n",
        "\r\n",
        "  return x, k, x_k\r\n",
        "\r\n"
      ],
      "execution_count": null,
      "outputs": []
    },
    {
      "cell_type": "markdown",
      "metadata": {
        "id": "FrEguCnsNMZg"
      },
      "source": [
        "# Preparing data "
      ]
    },
    {
      "cell_type": "code",
      "metadata": {
        "id": "jFLTXj5oH3Ue"
      },
      "source": [
        "p = 2\r\n",
        "n_sample = 800\r\n",
        "\r\n",
        "A = random.randn(n_sample, p)\r\n",
        "x_bar = np.zeros((p,1))\r\n",
        "\r\n",
        "x_bar[0] = random.uniform(-4.0, -2.0)\r\n",
        "x_bar[1] = random.uniform(6.0, 8.0)\r\n",
        "\r\n",
        "e = random.rand(n_sample, 1)\r\n",
        "\r\n",
        "y = np.matmul(A,x_bar) + e\r\n"
      ],
      "execution_count": null,
      "outputs": []
    },
    {
      "cell_type": "markdown",
      "metadata": {
        "id": "jX75BNCAYyXM"
      },
      "source": [
        "#Part 2 : *Newton's Method with Backtracking line search*\r\n"
      ]
    },
    {
      "cell_type": "markdown",
      "metadata": {
        "id": "Me16wFXoTjF-"
      },
      "source": [
        "$\\textbf{Finding the optimal value of x that minimizes our problem}$"
      ]
    },
    {
      "cell_type": "code",
      "metadata": {
        "colab": {
          "base_uri": "https://localhost:8080/"
        },
        "id": "MI6wYTWeSf6Y",
        "outputId": "8cac1957-ec37-4644-a6ab-ce5b049677c2"
      },
      "source": [
        "my_x = np.array([0,0]).reshape((p, 1))\r\n",
        "my_tol = 10e-5\r\n",
        "alpha = 0.9\r\n",
        "rho = 0.5\r\n",
        "gamma = 0.5\r\n",
        "\r\n",
        "x_opt , k_opt , x_k_arr = find_minimizer_Newtonmethod(A, my_x, y, p, n_sample, my_tol, BACKTRACKING_LINE_SEARCH, alpha, rho, gamma)\r\n",
        "\r\n",
        "\r\n",
        "print('Using newtons method with Backtracking :- ')\r\n",
        "print('\\n')\r\n",
        "\r\n",
        "print('Optimal Value of x :', x_opt.T)\r\n",
        "print('Original x_bar :', x_bar.T)\r\n",
        "print('Value at optimum x :', evalf(A,x_opt,y,p,n_sample))\r\n",
        "print('No. of iterations :', k_opt)\r\n",
        "\r\n"
      ],
      "execution_count": null,
      "outputs": [
        {
          "output_type": "stream",
          "text": [
            "Using newtons method with Backtracking :- \n",
            "\n",
            "\n",
            "Optimal Value of x : [[-3.76902355  7.16606802]]\n",
            "Original x_bar : [[-3.77641785  7.1735924 ]]\n",
            "Value at optimum x : 132.31514727496892\n",
            "No. of iterations : 8\n"
          ],
          "name": "stdout"
        }
      ]
    },
    {
      "cell_type": "markdown",
      "metadata": {
        "id": "MvUr2IFqX9Am"
      },
      "source": [
        "***Remarks :*** *This is a regression problem where we have been given a function y which depend on x. The original value or the paramerter is x_bar. Here in this problem we are trying to estimate that parameter as best as possible. for that we try to minimize the square erros loss function that is the f(x) in our case to find the weights x such that we estimate it as close as possible.*\r\n",
        "\r\n",
        "*The observation is that we estimated the value of x, and it lies very close to the true value x_bar.*"
      ]
    },
    {
      "cell_type": "markdown",
      "metadata": {
        "id": "9zfOEDuVY13W"
      },
      "source": [
        "$\\textbf{Plot}$"
      ]
    },
    {
      "cell_type": "code",
      "metadata": {
        "colab": {
          "base_uri": "https://localhost:8080/",
          "height": 616
        },
        "id": "aKEjspg7UnCT",
        "outputId": "f67d77dc-b28d-4108-c6e1-e6909d39a864"
      },
      "source": [
        "\r\n",
        "log_norm = []\r\n",
        "log_norm_fx = []\r\n",
        "\r\n",
        "for xk in x_k_arr:\r\n",
        "  log_norm.append(np.log(np.linalg.norm(xk - x_opt)))\r\n",
        "  log_norm_fx.append(np.log(np.abs(evalf(A,xk,y,p,n_sample) - evalf(A,x_opt,y,p,n_sample) )))\r\n",
        "\r\n",
        "\r\n",
        "fig, ax = plt.subplots(1,2,figsize= (20,8))\r\n",
        "ax[0].plot(np.arange(len(x_k_arr)),log_norm, label='$Log-Norm(x-x*)$')\r\n",
        "ax[0].set_title('Log norm of $x_k - x*$', fontsize = 18)\r\n",
        "ax[0].set_xlabel('k', fontsize = 16)\r\n",
        "\r\n",
        "ax[1].plot(np.arange(len(x_k_arr)),log_norm_fx, label='$\\log(|f(x_k) - f(x*)|)$')\r\n",
        "ax[1].set_title('$\\log(|f(x_k) - f(x*)|)$', fontsize = 18)\r\n",
        "ax[1].set_xlabel('k', fontsize = 16)\r\n"
      ],
      "execution_count": null,
      "outputs": [
        {
          "output_type": "stream",
          "text": [
            "/usr/local/lib/python3.6/dist-packages/ipykernel_launcher.py:6: RuntimeWarning: divide by zero encountered in log\n",
            "  \n",
            "/usr/local/lib/python3.6/dist-packages/ipykernel_launcher.py:7: RuntimeWarning: divide by zero encountered in log\n",
            "  import sys\n"
          ],
          "name": "stderr"
        },
        {
          "output_type": "execute_result",
          "data": {
            "text/plain": [
              "Text(0.5, 0, 'k')"
            ]
          },
          "metadata": {
            "tags": []
          },
          "execution_count": 31
        },
        {
          "output_type": "display_data",
          "data": {
            "image/png": "[encoded data removed]",
            "text/plain": [
              "<Figure size 1440x576 with 2 Axes>"
            ]
          },
          "metadata": {
            "tags": [],
            "needs_background": "light"
          }
        }
      ]
    },
    {
      "cell_type": "markdown",
      "metadata": {
        "id": "jjDOKFEGdc8K"
      },
      "source": [
        "***Remarks :*** *We observe that the convergence is linear as the line shows*"
      ]
    },
    {
      "cell_type": "markdown",
      "metadata": {
        "id": "swtSN6MmdruX"
      },
      "source": [
        "# Part 3 : *BFGS Method with backtracking line search*"
      ]
    },
    {
      "cell_type": "markdown",
      "metadata": {
        "id": "5cm51Utqd_5l"
      },
      "source": [
        "$\\textbf{Finding the optimal value of x that minimizes our problem}$"
      ]
    },
    {
      "cell_type": "code",
      "metadata": {
        "colab": {
          "base_uri": "https://localhost:8080/"
        },
        "id": "l_Sw6_dydcoq",
        "outputId": "e3198683-79c9-4d20-ab6e-8d255c382c50"
      },
      "source": [
        "my_x = np.array([0,0]).reshape((2, 1))\r\n",
        "my_tol = 10e-5\r\n",
        "alpha = 0.9\r\n",
        "rho = 0.5\r\n",
        "gamma = 0.5\r\n",
        "\r\n",
        "x_opt , k_opt , x_k_arr = find_minimizer_BGFS(A, my_x, y, 2, 800, my_tol, BACKTRACKING_LINE_SEARCH, alpha, rho, gamma)\r\n",
        "\r\n",
        "\r\n",
        "print('Using BGFS method with Backtracking :- ')\r\n",
        "print('\\n')\r\n",
        "\r\n",
        "print('Optimal Value of x :', x_opt.T)\r\n",
        "print('Original x_bar :', x_bar.T)\r\n",
        "print('Value at optimum x :', evalf(A,x_opt,y,p,n_sample))\r\n",
        "print('No. of iterations :', k_opt)\r\n",
        "\r\n"
      ],
      "execution_count": null,
      "outputs": [
        {
          "output_type": "stream",
          "text": [
            "Using BGFS method with Backtracking :- \n",
            "\n",
            "\n",
            "Optimal Value of x : [[-3.76902354  7.166068  ]]\n",
            "Original x_bar : [[-3.77641785  7.1735924 ]]\n",
            "Value at optimum x : 132.31514727497066\n",
            "No. of iterations : 10\n"
          ],
          "name": "stdout"
        }
      ]
    },
    {
      "cell_type": "markdown",
      "metadata": {
        "id": "6Vhuhbyyd3Tr"
      },
      "source": [
        "$\\textbf{Plot}$"
      ]
    },
    {
      "cell_type": "code",
      "metadata": {
        "id": "nVFrCjr7aSxg",
        "colab": {
          "base_uri": "https://localhost:8080/",
          "height": 616
        },
        "outputId": "2e4d0219-f7f5-4c97-a061-30f4a1e09968"
      },
      "source": [
        "\r\n",
        "log_norm = []\r\n",
        "log_norm_fx = []\r\n",
        "\r\n",
        "for xk in x_k_arr:\r\n",
        "  log_norm.append(np.log(np.linalg.norm(xk - x_opt)))\r\n",
        "  log_norm_fx.append(np.log(np.abs(evalf(A,xk,y,p,n_sample) - evalf(A,x_opt,y,p,n_sample) )))\r\n",
        "\r\n",
        "\r\n",
        "fig, ax = plt.subplots(1,2,figsize= (20,8))\r\n",
        "ax[0].plot(np.arange(len(x_k_arr)),log_norm, label='$Log-Norm(x-x*)$')\r\n",
        "ax[0].set_title('Log norm of $x_k - x*$', fontsize = 18)\r\n",
        "ax[0].set_xlabel('k', fontsize = 16)\r\n",
        "\r\n",
        "ax[1].plot(np.arange(len(x_k_arr)),log_norm_fx, label='$\\log(|f(x_k) - f(x*)|)$')\r\n",
        "ax[1].set_title('$\\log(|f(x_k) - f(x*)|)$', fontsize = 18)\r\n",
        "ax[1].set_xlabel('k', fontsize = 16)\r\n"
      ],
      "execution_count": null,
      "outputs": [
        {
          "output_type": "stream",
          "text": [
            "/usr/local/lib/python3.6/dist-packages/ipykernel_launcher.py:6: RuntimeWarning: divide by zero encountered in log\n",
            "  \n",
            "/usr/local/lib/python3.6/dist-packages/ipykernel_launcher.py:7: RuntimeWarning: divide by zero encountered in log\n",
            "  import sys\n"
          ],
          "name": "stderr"
        },
        {
          "output_type": "execute_result",
          "data": {
            "text/plain": [
              "Text(0.5, 0, 'k')"
            ]
          },
          "metadata": {
            "tags": []
          },
          "execution_count": 35
        },
        {
          "output_type": "display_data",
          "data": {
            "image/png": "[encoded data removed]",
            "text/plain": [
              "<Figure size 1440x576 with 2 Axes>"
            ]
          },
          "metadata": {
            "tags": [],
            "needs_background": "light"
          }
        }
      ]
    },
    {
      "cell_type": "markdown",
      "metadata": {
        "id": "LvAWH4ncurO6"
      },
      "source": [
        "***Remarks :*** *Number of iterations taken by BFGS is more than the newtons methids, we have used backtracking line search algorith in both the problems.We also observe that the rate of convergence was linear decreasing in newtons methos but in bfgs we seea a small curva before falling*"
      ]
    },
    {
      "cell_type": "code",
      "metadata": {
        "id": "J4BDUurQadog"
      },
      "source": [
        ""
      ],
      "execution_count": null,
      "outputs": []
    }
  ]
}