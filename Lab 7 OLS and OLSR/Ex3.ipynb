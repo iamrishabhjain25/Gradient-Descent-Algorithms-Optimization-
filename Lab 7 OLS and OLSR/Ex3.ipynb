{
  "nbformat": 4,
  "nbformat_minor": 0,
  "metadata": {
    "colab": {
      "name": "20i190008_IE684_Lab7_Ex3.ipynb",
      "provenance": [],
      "collapsed_sections": []
    },
    "kernelspec": {
      "name": "python3",
      "display_name": "Python 3"
    }
  },
  "cells": [
    {
      "cell_type": "markdown",
      "metadata": {
        "id": "YfSgCeoUjvDT"
      },
      "source": [
        "$\\large\\textbf{Part 1 , 2 }$\r\n",
        "\r\n",
        "We want to minimize the function which can be written as :\r\n",
        "\r\n",
        "$\\min_x f_\\lambda (x) = \\min_x \\ \\sum_{n=1}^{N} f_i (x)    $\r\n",
        "\r\n",
        "where we can define $f_i(x)$ as \r\n",
        "\r\n",
        "$f_i(x) = \\frac{1}{2}(A_ix - y_i)^2 + \\frac{\\lambda}{2N} \\ xx^T$\r\n",
        "\r\n",
        "Here \r\n",
        "\r\n",
        "$A_i$ : $i^{th}$ row of matriz A ($i^{th}$ sample)\r\n",
        "\r\n",
        "$x$ : vector x of weights of size $d\\times1$\r\n",
        "\r\n",
        "$y_i$ : $i^{th}$ value of y\r\n",
        "\r\n",
        "\\\\\r\n",
        "\\\\\r\n",
        "Now we can calculate the gradient $g_i(x) = \\nabla_xf_i(x)$ as :\r\n",
        "\r\n",
        "$g_i(x) = (A_i)^T(A_ix-y_i) + \\frac{\\lambda}{N}x $"
      ]
    },
    {
      "cell_type": "code",
      "metadata": {
        "id": "7tp4KfAg1P8L"
      },
      "source": [
        "def evalf(i,A,x,y,n_feat, n, lamb):\r\n",
        "  assert type(A) is np.ndarray and A.shape == (n, n_feat)\r\n",
        "  assert type(x) is np.ndarray and x.shape == (n_feat,1)\r\n",
        "  assert type(y) is np.ndarray and y.shape == (n,1)\r\n",
        "  assert type(n_feat) is int and n_feat >0\r\n",
        "  assert type(n) is int and n >0\r\n",
        "  assert lamb > 0 \r\n",
        "  assert i >=0 and i <=n\r\n",
        "\r\n",
        "  f = 0.5*( ( np.matmul(A[i],x) - y[i])**2 ) + 0.5*(lamb/n)*(np.matmul(x.T,x))\r\n",
        "\r\n",
        "  return float(f)\r\n",
        "\r\n",
        "\r\n",
        "def evalg(i,A,x,y,n_feat, n, lamb):\r\n",
        "  assert type(A) is np.ndarray and A.shape == (n, n_feat)\r\n",
        "  assert type(x) is np.ndarray and x.shape == (n_feat,1)\r\n",
        "  assert type(y) is np.ndarray and y.shape == (n,1)\r\n",
        "  assert type(n_feat) is int and n_feat >0\r\n",
        "  assert type(n) is int and n >0\r\n",
        "  assert lamb > 0\r\n",
        "  assert i >=0 and i <=n\r\n",
        "\r\n",
        "  dummy = np.dot(A[i],x) - y[i]\r\n",
        "  g = dummy * (A[i].T).reshape((n_feat,1)) + (lamb/n)*x\r\n",
        "\r\n",
        "  return g"
      ],
      "execution_count": 129,
      "outputs": []
    },
    {
      "cell_type": "markdown",
      "metadata": {
        "id": "fFpYcQqoyY_e"
      },
      "source": [
        "$\\large\\textbf{Part 3}$"
      ]
    },
    {
      "cell_type": "code",
      "metadata": {
        "id": "n0efubqRU7Se"
      },
      "source": [
        "import numpy as np\r\n",
        "import timeit\r\n",
        "np.random.seed(1000)\r\n"
      ],
      "execution_count": 130,
      "outputs": []
    },
    {
      "cell_type": "code",
      "metadata": {
        "colab": {
          "base_uri": "https://localhost:8080/"
        },
        "id": "Xgcwzpe_yuaA",
        "outputId": "2db20640-bc6e-4773-e505-f5cb42cfb2ac"
      },
      "source": [
        "N= 200\r\n",
        "d = 10000                            \r\n",
        "lambda_reg = 0.1\r\n",
        "eps = np.random.randn(N,1)\r\n",
        "A = np.random.randn(N,d)\r\n",
        "xorig = np.ones( (d,1) )\r\n",
        "y = np.dot(A,xorig) + eps\r\n",
        "\r\n",
        "x = np.zeros((d,1))\r\n",
        "epochs = 20\r\n",
        "t = 1\r\n",
        "arr = np.arange(N)\r\n",
        "\r\n",
        "\r\n",
        "start = timeit.default_timer()\r\n",
        "\r\n",
        "for epoch in range(epochs):\r\n",
        "  np.random.shuffle(arr)\r\n",
        "  for i in np.nditer(arr):\r\n",
        "    x = x - (1/t)*evalg(i,A,x,y,d,N,lambda_reg)\r\n",
        "    t = t+1\r\n",
        "\r\n",
        "\r\n",
        "alglab8time = timeit.default_timer() - start\r\n",
        "x_alglab8 = x\r\n",
        "\r\n",
        "\r\n",
        "print('Results :')\r\n",
        "print('-------  \\n')\r\n",
        "\r\n",
        "print('Time taken :' , alglab8time)\r\n",
        "print('$||Ax* -y||^2$ : ', (np.linalg.norm(np.matmul(A,x_alglab8) - y))**2)\r\n",
        "print('$||x* - x_orig||$', (np.linalg.norm(x_alglab8 - xorig ))**2 )\r\n",
        "\r\n",
        "\r\n"
      ],
      "execution_count": 131,
      "outputs": [
        {
          "output_type": "stream",
          "text": [
            "Results :\n",
            "-------  \n",
            "\n",
            "Time taken : 0.2721172440014925\n",
            "$||Ax* -y||^2$ :  8.723264230027905e+133\n",
            "$||x* - x_orig||$ 1.0087397021603739e+130\n"
          ],
          "name": "stdout"
        }
      ]
    },
    {
      "cell_type": "markdown",
      "metadata": {
        "id": "JDnmmYaNeOWU"
      },
      "source": [
        "$\\large\\textbf{Part 4 (running for different epochs)}$"
      ]
    },
    {
      "cell_type": "code",
      "metadata": {
        "id": "9_9PwxquASQt"
      },
      "source": [
        "lambda_reg = 0.1\r\n",
        "epochs_arr = [30,40,50]\r\n",
        "times_arr =[]\r\n",
        "x_opt =[]\r\n",
        "\r\n",
        "for e in epochs_arr:\r\n",
        "  x = np.zeros((d,1))\r\n",
        "  t = 1\r\n",
        "  arr = np.arange(N)\r\n",
        "  start = timeit.default_timer()\r\n",
        "  for epoch in range(e):\r\n",
        "    np.random.shuffle(arr)\r\n",
        "    for i in np.nditer(arr):\r\n",
        "      x = x - (1/t)*evalg(i,A,x,y,d,N,lambda_reg)\r\n",
        "      t = t+1\r\n",
        "\r\n",
        "  alglab8time = timeit.default_timer() - start\r\n",
        "  times_arr.append(alglab8time)\r\n",
        "  x_opt.append(x)\r\n",
        "\r\n"
      ],
      "execution_count": 132,
      "outputs": []
    },
    {
      "cell_type": "code",
      "metadata": {
        "colab": {
          "base_uri": "https://localhost:8080/"
        },
        "id": "QwtOu2grfeZY",
        "outputId": "aeb822dc-c20a-4ea4-f905-47aad569e03a"
      },
      "source": [
        "print('Epochs \\t\\t Time \\t\\t\\t\\t $||Ax* -y||^2$ \\t\\t $||x* - x_orig||$')\r\n",
        "print('--------------------------------------------------------------------------------------------------')\r\n",
        "for i in range(len(epochs_arr)):\r\n",
        "  print( str(epochs_arr[i]),'\\t\\t' + str(times_arr[i]) ,'\\t\\t' +  str((np.linalg.norm(np.matmul(A,x_opt[i]) - y))**2 ), '\\t\\t' +str(np.linalg.norm(x_opt[i] - xorig )**2) )\r\n"
      ],
      "execution_count": 133,
      "outputs": [
        {
          "output_type": "stream",
          "text": [
            "Epochs \t\t Time \t\t\t\t $||Ax* -y||^2$ \t\t $||x* - x_orig||$\n",
            "--------------------------------------------------------------------------------------------------\n",
            "30 \t\t0.38187615900096716 \t\t1.9245204669366806e+137 \t\t1.9222437941142114e+133\n",
            "40 \t\t0.463807612999517 \t\t3.180597385006392e+120 \t\t2.732430117591231e+116\n",
            "50 \t\t0.5776978180001606 \t\t3.036812177750214e+118 \t\t2.8339865461462035e+114\n"
          ],
          "name": "stdout"
        }
      ]
    },
    {
      "cell_type": "markdown",
      "metadata": {
        "id": "hIyhIBb3sThG"
      },
      "source": [
        "***Results :*** *We observe that we can now find the values even for the the failure cases from the previous questions.*\r\n",
        "\r\n"
      ]
    },
    {
      "cell_type": "markdown",
      "metadata": {
        "id": "IwW_PJl5jDis"
      },
      "source": [
        "$\\large\\textbf{Part 5 (running for different $\\lambda$)}$"
      ]
    },
    {
      "cell_type": "code",
      "metadata": {
        "id": "zdxoO1AEi3lU"
      },
      "source": [
        "lambda_reg_arr = [1000, 100 , 10, 1, 0.1, 10e-2 , 10e-3]\r\n",
        "epochs = 20\r\n",
        "times_arr =[]\r\n",
        "x_opt =[]\r\n",
        "\r\n",
        "\r\n",
        "for lam in lambda_reg_arr:\r\n",
        "  x = np.zeros((d,1))\r\n",
        "  t = 1\r\n",
        "  arr = np.arange(N)\r\n",
        "  start = timeit.default_timer()\r\n",
        "  for epoch in range(epochs):\r\n",
        "    np.random.shuffle(arr)\r\n",
        "    for i in np.nditer(arr):\r\n",
        "      x = x - (1/t)*evalg(i,A,x,y,d,N,lam)\r\n",
        "      t = t+1\r\n",
        "\r\n",
        "  alglab8time = timeit.default_timer() - start\r\n",
        "  times_arr.append(alglab8time)\r\n",
        "  x_opt.append(x)\r\n",
        "\r\n"
      ],
      "execution_count": 134,
      "outputs": []
    },
    {
      "cell_type": "code",
      "metadata": {
        "colab": {
          "base_uri": "https://localhost:8080/"
        },
        "id": "yCJNraayjJHM",
        "outputId": "c8752f60-f4a5-4a91-fe77-076c60d47f18"
      },
      "source": [
        "print('$\\lambda$ \\t\\t Time \\t\\t\\t\\t $||Ax* -y||^2$ \\t\\t\\t $||x* - x_orig||$')\r\n",
        "print('------------------------------------------------------------------------------------------------------------')\r\n",
        "for i in range(len(lambda_reg_arr)):\r\n",
        "  print( str(lambda_reg_arr[i]),'\\t\\t\\t' + str(times_arr[i])[:15] ,'\\t\\t' +  str((np.linalg.norm(np.matmul(A,x_opt[i]) - y))**2 )[:15], '\\t\\t\\t' +str(np.linalg.norm(x_opt[i] - xorig )**2)[:15] )\r\n"
      ],
      "execution_count": 135,
      "outputs": [
        {
          "output_type": "stream",
          "text": [
            "$\\lambda$ \t\t Time \t\t\t\t $||Ax* -y||^2$ \t\t\t $||x* - x_orig||$\n",
            "------------------------------------------------------------------------------------------------------------\n",
            "1000 \t\t\t0.2569719810016 \t\t5.6231985798371 \t\t\t6.3993230540545\n",
            "100 \t\t\t0.2251646619988 \t\t2.4566049374165 \t\t\t2.8777674155865\n",
            "10 \t\t\t0.2326321210002 \t\t4.8597259668795 \t\t\t5.5628837999631\n",
            "1 \t\t\t0.2323745310004 \t\t8.0462598460056 \t\t\t9.0141482860279\n",
            "0.1 \t\t\t0.2271442809997 \t\t9.7845501723794 \t\t\t1.0711491906502\n",
            "0.1 \t\t\t0.2309842909999 \t\t4.4739865194847 \t\t\t5.1761644060636\n",
            "0.01 \t\t\t0.2269288319985 \t\t1.3857286331176 \t\t\t1.5864059387815\n"
          ],
          "name": "stdout"
        }
      ]
    },
    {
      "cell_type": "markdown",
      "metadata": {
        "id": "XBtHNIUHs9QI"
      },
      "source": [
        "***Results :*** *We observe that we can now find the values of the quantities for all values of $\\lambda$ given in the question*\r\n",
        "\r\n"
      ]
    },
    {
      "cell_type": "markdown",
      "metadata": {
        "id": "Dub0EAgcmRQw"
      },
      "source": [
        "$\\large\\textbf{Part 6(for different values of d)}$"
      ]
    },
    {
      "cell_type": "code",
      "metadata": {
        "colab": {
          "base_uri": "https://localhost:8080/"
        },
        "cellView": "code",
        "id": "3y1jNRw5mUET",
        "outputId": "1a26cd64-fcf2-4c8f-c2e3-5e01518619d1"
      },
      "source": [
        "d_arr = [10000,25000,50000,100000]\n",
        "lambda_reg = 0.1\n",
        "epochs = 20\n",
        "times_arr =[]\n",
        "x_opt =[]\n",
        "\n",
        "print('d \\t\\t Time \\t\\t\\t\\t $||Ax* -y||^2$ \\t\\t\\t $||x* - x_orig||$')\n",
        "for d in d_arr:\n",
        "  eps = np.random.randn(N,1)\n",
        "  A = np.random.randn(N,d)\n",
        "  xorig = np.ones( (d,1) )\n",
        "  y = np.dot(A,xorig) + eps\n",
        "  x = np.zeros((d,1))\n",
        "  t = 1\n",
        "  arr = np.arange(N)\n",
        "  start = timeit.default_timer()\n",
        "  for epoch in range(epochs):\n",
        "    np.random.shuffle(arr)\n",
        "    for i in np.nditer(arr):\n",
        "      x = x - (1/t)*evalg(i,A,x,y,d,N,lambda_reg)\n",
        "      t = t+1\n",
        "\n",
        "  alglab8time = timeit.default_timer() - start\n",
        "  times_arr.append(alglab8time)\n",
        "  x_opt.append(x)\n",
        "  print(str(d) ,\n",
        "        '\\t\\t\\t' + str(alglab8time)[:15],\n",
        "        '\\t\\t' +  str((np.linalg.norm(np.matmul(A,x) - y))**2 )[:15],\n",
        "        '\\t\\t\\t' +str(np.linalg.norm(x - xorig )**2)[:15]         \n",
        "        )\n",
        "\n"
      ],
      "execution_count": 145,
      "outputs": [
        {
          "output_type": "stream",
          "text": [
            "d \t\t Time \t\t\t\t $||Ax* -y||^2$ \t\t\t $||x* - x_orig||$\n",
            "10000 \t\t\t0.2605495869993 \t\t3.8655578720887 \t\t\t4.4373287858311\n",
            "25000 \t\t\t0.6863680019996 \t\t2.2681654017393 \t\t\t1.0376967361125\n",
            "50000 \t\t\t2.0197730500003 \t\t4.7713965447509 \t\t\t1.0346622412258\n",
            "100000 \t\t\t3.0712433640001 \t\tinf \t\t\tinf\n"
          ],
          "name": "stdout"
        }
      ]
    },
    {
      "cell_type": "markdown",
      "metadata": {
        "id": "uz72to-VtEqK"
      },
      "source": [
        "***Results :*** *Here we see that we can calculate the values for all the failed dimesion except for the d = 100000*\r\n",
        "\r\n"
      ]
    }
  ]
}